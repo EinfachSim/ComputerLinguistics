{
 "cells": [
  {
   "cell_type": "code",
   "execution_count": 1,
   "id": "165b0919",
   "metadata": {},
   "outputs": [],
   "source": [
    "from scipy.spatial import procrustes\n",
    "from scipy.linalg import orthogonal_procrustes\n",
    "import fasttext\n",
    "import numpy as np"
   ]
  },
  {
   "cell_type": "code",
   "execution_count": 2,
   "id": "03d2abff",
   "metadata": {},
   "outputs": [],
   "source": [
    "def get_models(path1, path2):\n",
    "    model_src = fasttext.load_model(path1)\n",
    "    model_tgt = fasttext.load_model(path2)\n",
    "    return (model_src, model_tgt)"
   ]
  },
  {
   "cell_type": "code",
   "execution_count": 64,
   "id": "8e1abc0d",
   "metadata": {},
   "outputs": [],
   "source": [
    "def get_common_word_vecs(model1, model2):\n",
    "    words1 = model1.get_words()\n",
    "    words2 = model2.get_words()\n",
    "    print(\"südafrika\" in words1)\n",
    "    print(\"südafrika\" in words2)\n",
    "    print(len(words2))\n",
    "    m1_original_vectors = np.array([model1.get_word_vector(word) for word in words1])\n",
    "    m2_original_vectors = np.array([model2.get_word_vector(word) for word in words2])\n",
    "    common = list(set(words1) & set(words2))\n",
    "    vocab_word_to_index_ = {}\n",
    "    m1_common_vec = []\n",
    "    m2_common_vec = []\n",
    "    for i in range(len(common)):\n",
    "        word = common[i]\n",
    "        vocab_word_to_index_[word] = i\n",
    "        v1 = model1.get_word_vector(word)\n",
    "        v2 = model2.get_word_vector(word)\n",
    "        v1 = v1/np.linalg.norm(v1)\n",
    "        v2 = v2/np.linalg.norm(v2)\n",
    "        m1_common_vec.append(v1)\n",
    "        m2_common_vec.append(v2)\n",
    "    \n",
    "    m1_vec = np.array(m1_common_vec)\n",
    "    m2_vec = np.array(m2_common_vec)\n",
    "\n",
    "    #fetch missing\n",
    "    missing_vocab_m1 = {}\n",
    "    missing_vocab_m2 = {}\n",
    "    for i in range(len(words1)):\n",
    "        w = words1[i]\n",
    "        if w not in common:\n",
    "            missing_vocab_m1[w] = model1.get_word_vector(w)#- m1_mean\n",
    "    for i in range(len(words2)):\n",
    "        w = words2[i]\n",
    "        if w not in common:\n",
    "            missing_vocab_m2[w] = model2.get_word_vector(w)# - m2_mean\n",
    "            \n",
    "    return (vocab_word_to_index_, m1_vec, m2_vec, missing_vocab_m1, missing_vocab_m2, m1_original_vectors, m2_original_vectors)"
   ]
  },
  {
   "cell_type": "code",
   "execution_count": 65,
   "id": "3f53f899",
   "metadata": {},
   "outputs": [
    {
     "name": "stdout",
     "output_type": "stream",
     "text": [
      "True\n",
      "False\n",
      "6895\n",
      "(5150, 400) (5150, 400)\n"
     ]
    },
    {
     "ename": "KeyError",
     "evalue": "'südafrika'",
     "output_type": "error",
     "traceback": [
      "\u001b[0;31m---------------------------------------------------------------------------\u001b[0m",
      "\u001b[0;31mKeyError\u001b[0m                                  Traceback (most recent call last)",
      "Input \u001b[0;32mIn [65]\u001b[0m, in \u001b[0;36m<cell line: 3>\u001b[0;34m()\u001b[0m\n\u001b[1;32m      1\u001b[0m vocab, vecs1, vecs2, missing_m1, missing_m2, point_cloud1, point_cloud2 \u001b[38;5;241m=\u001b[39m get_common_word_vecs(m1,m2)\n\u001b[1;32m      2\u001b[0m \u001b[38;5;28mprint\u001b[39m(vecs1\u001b[38;5;241m.\u001b[39mshape, vecs2\u001b[38;5;241m.\u001b[39mshape)\n\u001b[0;32m----> 3\u001b[0m \u001b[38;5;28mprint\u001b[39m(\u001b[43mvocab\u001b[49m\u001b[43m[\u001b[49m\u001b[38;5;124;43m\"\u001b[39;49m\u001b[38;5;124;43msüdafrika\u001b[39;49m\u001b[38;5;124;43m\"\u001b[39;49m\u001b[43m]\u001b[49m)\n",
      "\u001b[0;31mKeyError\u001b[0m: 'südafrika'"
     ]
    }
   ],
   "source": [
    "vocab, vecs1, vecs2, missing_m1, missing_m2, point_cloud1, point_cloud2 = get_common_word_vecs(m1,m2)\n",
    "print(vecs1.shape, vecs2.shape)"
   ]
  },
  {
   "cell_type": "code",
   "execution_count": 45,
   "id": "b2a741f1",
   "metadata": {},
   "outputs": [],
   "source": [
    "class AlignedModel:\n",
    "    def __init__(self, vocab_to_index, emb):\n",
    "        self.emb = emb\n",
    "        self.vocab = vocab_to_index.copy()\n",
    "        print(\"Number of words in vocab:\",len(self.vocab))\n",
    "        self.word_count = len(self.vocab)\n",
    "        self.inverse_vocab = {v: k for k, v in self.vocab.items()}\n",
    "        self.emb = self.emb / np.linalg.norm(self.emb, axis=1, keepdims=True)\n",
    "    def get_word_vector(self, word):\n",
    "        return self.emb[self.vocab[word],:]\n",
    "    def cos_similarity(self, v1, v2):\n",
    "        cos_sim = (v1 @ v2.T) / (np.linalg.norm(v1)*np.linalg.norm(v2))\n",
    "        return cos_sim\n",
    "    def compare(self, word1, word2):\n",
    "        v1 = self.get_word_vector(word1)\n",
    "        v2 = self.get_word_vector(word2)\n",
    "        return self.cos_similarity(v1,v2)\n",
    "    def get_nearest_neighbors(self, word, topn=10):\n",
    "        word_idx = self.vocab[word]\n",
    "        denominator = self.emb@(self.emb[word_idx,:])\n",
    "        similarities = denominator\n",
    "        topk = np.argsort(similarities)[-topn-1:-1][::-1]\n",
    "        for i in topk:\n",
    "            print(f\"{self.inverse_vocab[i]}: {similarities[i]}\")\n",
    "    def get_nearest_vectors(self, v, topn=10, exclude=None):\n",
    "        v_norm = np.linalg.norm(v)\n",
    "        similarities = (self.emb@v)/v_norm\n",
    "        topk = np.argsort(similarities)[::-1]\n",
    "        k = 0\n",
    "        q = 0\n",
    "        while q < topn:\n",
    "            i = topk[k]\n",
    "            if exclude == None:\n",
    "                print(f\"{self.inverse_vocab[i]}: {similarities[i]}\")\n",
    "                q+=1\n",
    "            elif i not in exclude:\n",
    "                print(f\"{self.inverse_vocab[i]}: {similarities[i]}\")\n",
    "                q+=1\n",
    "            k+=1\n",
    "                \n",
    "    def get_analogies(self, w1, w2, w3, topn=10):\n",
    "        v1 = self.get_word_vector(w1)\n",
    "        v2 = self.get_word_vector(w2)\n",
    "        v3 = self.get_word_vector(w3)\n",
    "        self.get_nearest_vectors(v1-v2+v3, topn, exclude=[self.vocab[w1], self.vocab[w2], self.vocab[w3]])"
   ]
  },
  {
   "cell_type": "code",
   "execution_count": null,
   "id": "9d7a0bfd",
   "metadata": {},
   "outputs": [],
   "source": [
    "a_m1 = AlignedModel(model_1_vocab, model1_vectors)\n",
    "a_m2 = AlignedModel(model_1_vocab, model1_vectors)"
   ]
  },
  {
   "cell_type": "code",
   "execution_count": 48,
   "id": "57368828",
   "metadata": {},
   "outputs": [
    {
     "name": "stdout",
     "output_type": "stream",
     "text": [
      "fdp: 0.5987302057016644\n",
      "tagesordnungspunkt: 0.5331856926589676\n",
      "csu: 0.5218366505279795\n",
      "wahlperiode: 0.4893523822187062\n",
      "unionsfraktion: 0.486882724865406\n",
      "cdu: 0.47639500256170597\n",
      "entschließungsantrag: 0.4720216497207453\n",
      "konstruktive: 0.46954683832788957\n",
      "linksfraktion: 0.4636154264426515\n",
      "parlamentarismus: 0.45929532783712423\n"
     ]
    }
   ],
   "source": [
    "a_m1.get_nearest_neighbors(\"afd\")"
   ]
  },
  {
   "cell_type": "code",
   "execution_count": 421,
   "id": "1fdf3978",
   "metadata": {},
   "outputs": [
    {
     "name": "stdout",
     "output_type": "stream",
     "text": [
      "außenpolitik: 0.4161564111709595\n",
      "image: 0.19788874685764313\n",
      "außenministerin: 0.19776684045791626\n",
      "hardt: 0.19294482469558716\n",
      "familienpolitik: 0.18697983026504517\n",
      "ahrtal: 0.1841312199831009\n",
      "hoffmann: 0.1692623496055603\n",
      "mach: 0.16865012049674988\n",
      "entwicklungszusammenarbeit: 0.16787855327129364\n",
      "entwicklungspolitik: 0.16627146303653717\n"
     ]
    }
   ],
   "source": [
    "a_m1.get_nearest_neighbors(\"feministisch\", topn=10)"
   ]
  },
  {
   "cell_type": "code",
   "execution_count": 51,
   "id": "de8d9ac6",
   "metadata": {},
   "outputs": [
    {
     "ename": "KeyError",
     "evalue": "'südafrika'",
     "output_type": "error",
     "traceback": [
      "\u001b[0;31m---------------------------------------------------------------------------\u001b[0m",
      "\u001b[0;31mKeyError\u001b[0m                                  Traceback (most recent call last)",
      "Input \u001b[0;32mIn [51]\u001b[0m, in \u001b[0;36m<cell line: 1>\u001b[0;34m()\u001b[0m\n\u001b[0;32m----> 1\u001b[0m \u001b[43ma_m2\u001b[49m\u001b[38;5;241;43m.\u001b[39;49m\u001b[43mget_nearest_neighbors\u001b[49m\u001b[43m(\u001b[49m\u001b[38;5;124;43m\"\u001b[39;49m\u001b[38;5;124;43msüdafrika\u001b[39;49m\u001b[38;5;124;43m\"\u001b[39;49m\u001b[43m,\u001b[49m\u001b[43m \u001b[49m\u001b[43mtopn\u001b[49m\u001b[38;5;241;43m=\u001b[39;49m\u001b[38;5;241;43m15\u001b[39;49m\u001b[43m)\u001b[49m\n",
      "Input \u001b[0;32mIn [45]\u001b[0m, in \u001b[0;36mAlignedModel.get_nearest_neighbors\u001b[0;34m(self, word, topn)\u001b[0m\n\u001b[1;32m     23\u001b[0m \u001b[38;5;28;01mdef\u001b[39;00m \u001b[38;5;21mget_nearest_neighbors\u001b[39m(\u001b[38;5;28mself\u001b[39m, word, topn\u001b[38;5;241m=\u001b[39m\u001b[38;5;241m10\u001b[39m):\n\u001b[0;32m---> 24\u001b[0m     word_idx \u001b[38;5;241m=\u001b[39m \u001b[38;5;28;43mself\u001b[39;49m\u001b[38;5;241;43m.\u001b[39;49m\u001b[43mvocab\u001b[49m\u001b[43m[\u001b[49m\u001b[43mword\u001b[49m\u001b[43m]\u001b[49m\n\u001b[1;32m     25\u001b[0m     denominator \u001b[38;5;241m=\u001b[39m \u001b[38;5;28mself\u001b[39m\u001b[38;5;241m.\u001b[39memb\u001b[38;5;241m@\u001b[39m(\u001b[38;5;28mself\u001b[39m\u001b[38;5;241m.\u001b[39memb[word_idx,:])\n\u001b[1;32m     26\u001b[0m     similarities \u001b[38;5;241m=\u001b[39m denominator\n",
      "\u001b[0;31mKeyError\u001b[0m: 'südafrika'"
     ]
    }
   ],
   "source": [
    "a_m1.get_nearest_neighbors(\"südafrika\", topn=15)"
   ]
  },
  {
   "cell_type": "code",
   "execution_count": 423,
   "id": "96d397ec",
   "metadata": {},
   "outputs": [
    {
     "data": {
      "text/plain": [
       "0.20008685"
      ]
     },
     "execution_count": 423,
     "metadata": {},
     "output_type": "execute_result"
    }
   ],
   "source": [
    "a_m1.compare(\"entwicklungszusammenarbeit\", \"südafrika\")"
   ]
  },
  {
   "cell_type": "code",
   "execution_count": 424,
   "id": "a6ac651d",
   "metadata": {},
   "outputs": [
    {
     "data": {
      "text/plain": [
       "0.28119794"
      ]
     },
     "execution_count": 424,
     "metadata": {},
     "output_type": "execute_result"
    }
   ],
   "source": [
    "a_m1.compare(\"klima\", \"umwelt\")"
   ]
  },
  {
   "cell_type": "code",
   "execution_count": 425,
   "id": "beb09044",
   "metadata": {},
   "outputs": [
    {
     "name": "stdout",
     "output_type": "stream",
     "text": [
      "macron: 0.30520084500312805\n",
      "italien: 0.23412223160266876\n",
      "niederlanden: 0.2013196051120758\n",
      "niederlande: 0.19786745309829712\n",
      "französisch: 0.19196690618991852\n",
      "spanien: 0.19157074391841888\n",
      "währungsunion: 0.1692465990781784\n",
      "franzose: 0.16898460686206818\n",
      "staatspräsident: 0.16380636394023895\n",
      "österreicher: 0.1630183309316635\n"
     ]
    }
   ],
   "source": [
    "a_m1.get_analogies(\"putin\", \"russland\", \"frankreich\")"
   ]
  },
  {
   "cell_type": "code",
   "execution_count": 426,
   "id": "078424a5",
   "metadata": {},
   "outputs": [
    {
     "name": "stdout",
     "output_type": "stream",
     "text": [
      "muslim: 0.37925830483436584\n",
      "islamisch: 0.3524194359779358\n",
      "islamist: 0.33784353733062744\n",
      "muslimisch: 0.3265688121318817\n",
      "religionsfreiheit: 0.3202897310256958\n",
      "religiös: 0.31828951835632324\n",
      "religion: 0.30523422360420227\n",
      "islamistisch: 0.29436194896698\n",
      "islamismus: 0.2740400731563568\n",
      "ns: 0.24135100841522217\n"
     ]
    }
   ],
   "source": [
    "a_m2.get_nearest_neighbors(\"islam\")"
   ]
  },
  {
   "cell_type": "code",
   "execution_count": 439,
   "id": "856faf11",
   "metadata": {},
   "outputs": [],
   "source": [
    "def compute_biggest_shift(m1_aligned, m2_aligned, common_vocab):\n",
    "    shifts = []\n",
    "    for word in common_vocab:\n",
    "        v1 = m1_aligned.get_word_vector(word)\n",
    "        v2 = m2_aligned.get_word_vector(word)\n",
    "        dist = np.linalg.norm(v1-v2)\n",
    "        shifts.append((word, dist))\n",
    "    sorted_by_dist = sorted(shifts, key=lambda tup: tup[1], reverse=True)\n",
    "    print(sorted_by_dist[200:300])"
   ]
  },
  {
   "cell_type": "code",
   "execution_count": 440,
   "id": "9c0e1db1",
   "metadata": {},
   "outputs": [
    {
     "name": "stdout",
     "output_type": "stream",
     "text": [
      "[('wahlperiode', 1.3032125), ('innen', 1.3030361), ('kenntnis', 1.302969), ('momentan', 1.3028547), ('verteilen', 1.30277), ('faktisch', 1.3026047), ('beispielsweise', 1.3025179), ('stelle', 1.3023783), ('bitte', 1.3023392), ('daran', 1.3022535), ('sicherlich', 1.3020948), ('stell', 1.3018111), ('zugleich', 1.301478), ('gerade', 1.3014315), ('bestätigen', 1.3010786), ('fortschritt', 1.3008565), ('absehen', 1.3008496), ('alternative', 1.3007585), ('letztendlich', 1.3004231), ('halten', 1.3000919), ('erfolg', 1.2994758), ('dienen', 1.2992756), ('insgesamt', 1.299227), ('lässt', 1.2991264), ('vollständig', 1.2988435), ('sicher', 1.2986732), ('liefern', 1.2986504), ('wahr', 1.2983714), ('entstehen', 1.2983478), ('drehen', 1.2983277), ('position', 1.2982674), ('anscheinend', 1.2981207), ('vorhaben', 1.297961), ('ständig', 1.2979149), ('lasse', 1.2976896), ('hinblick', 1.2975476), ('möglichkeit', 1.297422), ('darstellen', 1.297381), ('denken', 1.2973465), ('platz', 1.2972281), ('hoffen', 1.2971083), ('freuen', 1.2968123), ('gemeinschaft', 1.2966559), ('insbesondere', 1.2962711), ('geben', 1.2962508), ('hingegen', 1.2962253), ('nehmen', 1.2961416), ('bisschen', 1.2961386), ('gleich', 1.296073), ('zusammen', 1.2959586), ('politiker', 1.2958438), ('haben', 1.2956605), ('sieben', 1.2955304), ('erklär', 1.2955234), ('dahin', 1.2955123), ('pflicht', 1.2954807), ('bedeutung', 1.2954098), ('respekt', 1.2952495), ('ausschließlich', 1.2949946), ('konzept', 1.2948995), ('weit', 1.2948426), ('verlangen', 1.2947795), ('etwa', 1.2946626), ('sogenannter', 1.2945377), ('konkret', 1.2944226), ('ordnung', 1.2941301), ('nutzen', 1.2939439), ('richtig', 1.2936656), ('stellung', 1.2935609), ('wirksam', 1.2934337), ('aufnehmen', 1.293262), ('find', 1.2931533), ('entsprechend', 1.2930539), ('überlegen', 1.2930332), ('legen', 1.2928447), ('wirkung', 1.2928193), ('glauben', 1.2926128), ('sollen', 1.2924262), ('hinweisen', 1.2921908), ('behandeln', 1.2921895), ('heraus', 1.2920827), ('statt', 1.2920358), ('stärkung', 1.2920246), ('begrüßen', 1.2919979), ('bemerkenswert', 1.2917593), ('wenig', 1.2913955), ('grundsätzlich', 1.2913172), ('wundern', 1.291256), ('passen', 1.2911685), ('beenden', 1.2910496), ('gehören', 1.2910326), ('klug', 1.2909558), ('wegen', 1.2908473), ('satz', 1.2907947), ('ungefähr', 1.2906961), ('unterschied', 1.290471), ('blick', 1.290425), ('niemals', 1.2903873), ('anstatt', 1.2903357), ('regelmäßig', 1.2902932)]\n"
     ]
    }
   ],
   "source": [
    "compute_biggest_shift(a_m1, a_m2, vocab)"
   ]
  },
  {
   "cell_type": "code",
   "execution_count": 443,
   "id": "4889466d",
   "metadata": {},
   "outputs": [
    {
     "name": "stdout",
     "output_type": "stream",
     "text": [
      "tun: 0.3081129789352417\n",
      "bundesregierung: 0.29253244400024414\n",
      "seite: 0.28401291370391846\n",
      "sprechen: 0.27862846851348877\n",
      "wirtschaftlich: 0.2744219899177551\n",
      "der: 0.2739515006542206\n",
      "sollen: 0.2710886001586914\n",
      "geben: 0.27041247487068176\n",
      "politisch: 0.2701123356819153\n",
      "frau: 0.2672087550163269\n"
     ]
    }
   ],
   "source": [
    "a_m1.get_nearest_neighbors(\"erfolg\")"
   ]
  },
  {
   "cell_type": "code",
   "execution_count": 444,
   "id": "9c09d013",
   "metadata": {},
   "outputs": [
    {
     "name": "stdout",
     "output_type": "stream",
     "text": [
      "neu: 0.2567260265350342\n",
      "groß: 0.23197662830352783\n",
      "jahr: 0.2203635722398758\n",
      "besonderer: 0.2193661630153656\n",
      "letzter: 0.2162303626537323\n",
      "stehen: 0.21001777052879333\n",
      "erreichen: 0.20685796439647675\n",
      "sehen: 0.20183128118515015\n",
      "ganz: 0.2011057436466217\n",
      "darauf: 0.19987910985946655\n"
     ]
    }
   ],
   "source": [
    "a_m2.get_nearest_neighbors(\"erfolg\")"
   ]
  },
  {
   "cell_type": "code",
   "execution_count": 383,
   "id": "caef4875",
   "metadata": {},
   "outputs": [
    {
     "name": "stdout",
     "output_type": "stream",
     "text": [
      "irrsinnig: 0.5054561692888472\n",
      "welch: 0.22729446882487508\n",
      "windindustrieanlag: 0.2134466379973569\n",
      "vernichten: 0.20540815538084337\n",
      "welcher: 0.20159260125297307\n",
      "wahnsinn: 0.20051785546261558\n",
      "kohleausstieg: 0.1969076098693952\n",
      "energiepolitik: 0.19562326384339365\n",
      "schädig: 0.19514797618465315\n",
      "grün: 0.19347625696535914\n",
      "irr: 0.36627251803178107\n",
      "tagebau: 0.26502418882226064\n",
      "unsinn: 0.2354000918803872\n",
      "atomwaffe: 0.2347204401509786\n",
      "windkraftanlage: 0.22886239946166592\n",
      "mitwirken: 0.22839863974371388\n",
      "neubau: 0.22155908948324157\n",
      "irre: 0.22100863644437257\n",
      "windkraft: 0.2200186408827055\n",
      "zerstörung: 0.21694000969569632\n"
     ]
    }
   ],
   "source": [
    "a_m1.get_nearest_neighbors(\"irrsinn\")\n",
    "a_m2.get_nearest_neighbors(\"irrsinn\")"
   ]
  },
  {
   "cell_type": "code",
   "execution_count": 380,
   "id": "d6a97632",
   "metadata": {},
   "outputs": [
    {
     "name": "stdout",
     "output_type": "stream",
     "text": [
      "Number of words in vocab: 5437\n",
      "range(4456, 6438)\n",
      "(5437, 300)\n"
     ]
    }
   ],
   "source": [
    "test2 = AlignedModel(vocab_full_2, vecs2, zero_range_2)"
   ]
  },
  {
   "cell_type": "code",
   "execution_count": 381,
   "id": "6c9fb9e7",
   "metadata": {},
   "outputs": [
    {
     "name": "stdout",
     "output_type": "stream",
     "text": [
      "halle: 0.5601162910461426\n",
      "lübcke: 0.4330243468284607\n",
      "anschlag: 0.4186391234397888\n",
      "breitscheidplatz: 0.3907088339328766\n",
      "nsu: 0.3698315918445587\n",
      "rassistisch: 0.3676041066646576\n",
      "opfer: 0.3576444685459137\n",
      "walter: 0.35632702708244324\n",
      "mord: 0.3559960722923279\n",
      "synagoge: 0.3415311574935913\n"
     ]
    }
   ],
   "source": [
    "test2.get_nearest_neighbors(\"hanau\")"
   ]
  },
  {
   "cell_type": "code",
   "execution_count": null,
   "id": "42e06c53",
   "metadata": {},
   "outputs": [],
   "source": []
  }
 ],
 "metadata": {
  "kernelspec": {
   "display_name": "Python 3 (ipykernel)",
   "language": "python",
   "name": "python3"
  },
  "language_info": {
   "codemirror_mode": {
    "name": "ipython",
    "version": 3
   },
   "file_extension": ".py",
   "mimetype": "text/x-python",
   "name": "python",
   "nbconvert_exporter": "python",
   "pygments_lexer": "ipython3",
   "version": "3.9.12"
  }
 },
 "nbformat": 4,
 "nbformat_minor": 5
}
