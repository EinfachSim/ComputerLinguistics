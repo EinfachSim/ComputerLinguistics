{
 "cells": [
  {
   "cell_type": "code",
   "execution_count": 25,
   "id": "662a1894",
   "metadata": {},
   "outputs": [],
   "source": [
    "import fasttext\n",
    "from collections import Counter"
   ]
  },
  {
   "cell_type": "code",
   "execution_count": 3,
   "id": "dbefe6da",
   "metadata": {},
   "outputs": [],
   "source": [
    "gruene_model = fasttext.load_model(\"../models/fasttext/gruene_dim80_epoch200_loss146.bin\")\n",
    "afd_model = fasttext.load_model(\"../models/fasttext/afd_dim80_epoch200_loss129.bin\")"
   ]
  },
  {
   "cell_type": "code",
   "execution_count": 5,
   "id": "9919a7e5",
   "metadata": {},
   "outputs": [],
   "source": [
    "words_gruene = gruene_model.get_words()\n",
    "words_afd = afd_model.get_words()"
   ]
  },
  {
   "cell_type": "code",
   "execution_count": 6,
   "id": "36a45270",
   "metadata": {},
   "outputs": [],
   "source": [
    "exclusive_gruene = [word for word in words_gruene if word not in words_afd]\n",
    "exclusive_afd = [word for word in words_afd if word not in words_gruene]"
   ]
  },
  {
   "cell_type": "code",
   "execution_count": 21,
   "id": "399c3e3f",
   "metadata": {},
   "outputs": [],
   "source": [
    "def load_corpus(path):\n",
    "    result = \"\"\n",
    "    with open(path) as f:\n",
    "        result = f.read()\n",
    "    return result.split()"
   ]
  },
  {
   "cell_type": "code",
   "execution_count": 22,
   "id": "a417cd6f",
   "metadata": {},
   "outputs": [],
   "source": [
    "afd_corpus = load_corpus(\"../data/txt/afd.txt\")\n",
    "gruene_corpus = load_corpus(\"../data/txt/gruene.txt\")"
   ]
  },
  {
   "cell_type": "code",
   "execution_count": 26,
   "id": "4a339818",
   "metadata": {},
   "outputs": [],
   "source": [
    "def count_exclusives(corpus, exclusives):\n",
    "    occurences = Counter(corpus)\n",
    "    result = {}\n",
    "    for word in exclusives:\n",
    "        result[word] = occurences[word]\n",
    "    return result"
   ]
  },
  {
   "cell_type": "code",
   "execution_count": 29,
   "id": "00a8cc5a",
   "metadata": {},
   "outputs": [],
   "source": [
    "afd_exclusives_count = count_exclusives(afd_corpus, exclusive_afd)\n",
    "gruene_exclusives_count = count_exclusives(gruene_corpus, exclusive_afd)"
   ]
  },
  {
   "cell_type": "code",
   "execution_count": null,
   "id": "ff5a23b1",
   "metadata": {},
   "outputs": [],
   "source": []
  }
 ],
 "metadata": {
  "kernelspec": {
   "display_name": "Python 3 (ipykernel)",
   "language": "python",
   "name": "python3"
  },
  "language_info": {
   "codemirror_mode": {
    "name": "ipython",
    "version": 3
   },
   "file_extension": ".py",
   "mimetype": "text/x-python",
   "name": "python",
   "nbconvert_exporter": "python",
   "pygments_lexer": "ipython3",
   "version": "3.9.12"
  }
 },
 "nbformat": 4,
 "nbformat_minor": 5
}
