{
 "cells": [
  {
   "cell_type": "code",
   "execution_count": 1,
   "id": "ced25245",
   "metadata": {},
   "outputs": [],
   "source": [
    "import fasttext"
   ]
  },
  {
   "cell_type": "code",
   "execution_count": null,
   "id": "4d707c87",
   "metadata": {},
   "outputs": [
    {
     "name": "stderr",
     "output_type": "stream",
     "text": [
      "Read 1M words\n",
      "Number of words:  6055\n",
      "Number of labels: 0\n",
      "Progress:   8.2% words/sec/thread:  155324 lr:  0.045902 avg.loss:  2.709983 ETA:   0h 2m49s  4.9% words/sec/thread:  159540 lr:  0.047536 avg.loss:  2.713035 ETA:   0h 2m50s"
     ]
    }
   ],
   "source": [
    "model = fasttext.train_unsupervised(\n",
    "    '../data/txt/afd.txt',\n",
    "    model='skipgram',\n",
    "    #wordNgrams=2,\n",
    "    ws=7,\n",
    "    maxn=5,\n",
    "    neg=7,\n",
    "    t=1e-5,\n",
    "    dim=80,\n",
    "    epoch=200,\n",
    "    minCount=20\n",
    ")"
   ]
  },
  {
   "cell_type": "code",
   "execution_count": 3,
   "id": "d0a0b20b",
   "metadata": {},
   "outputs": [
    {
     "data": {
      "text/plain": [
       "[(0.8237320184707642, 'russisch'),\n",
       " (0.8218324780464172, 'russland'),\n",
       " (0.7566474080085754, 'ukraine'),\n",
       " (0.7455651164054871, 'wladimir_putin'),\n",
       " (0.7104500532150269, 'angriffskrieg'),\n",
       " (0.697306215763092, 'krieg'),\n",
       " (0.6929280161857605, 'kreml'),\n",
       " (0.6621497273445129, 'abhängigkeit'),\n",
       " (0.6416706442832947, 'russlands'),\n",
       " (0.6393183469772339, 'brutal')]"
      ]
     },
     "execution_count": 3,
     "metadata": {},
     "output_type": "execute_result"
    }
   ],
   "source": [
    "model.get_nearest_neighbors(\"putin\")"
   ]
  },
  {
   "cell_type": "code",
   "execution_count": 12,
   "id": "5b66c08a",
   "metadata": {},
   "outputs": [
    {
     "data": {
      "text/plain": [
       "[(0.36506813764572144, 'französisch'),\n",
       " (0.3634607195854187, 'europa'),\n",
       " (0.35297849774360657, 'macron'),\n",
       " (0.3348276615142822, 'europäisch'),\n",
       " (0.33458730578422546, 'brexit'),\n",
       " (0.31706005334854126, 'deutsch_französisch'),\n",
       " (0.31664153933525085, 'sozial_gerecht'),\n",
       " (0.3054618537425995, 'bringen'),\n",
       " (0.3051515221595764, 'dänemark'),\n",
       " (0.30349770188331604, 'wirtschaft')]"
      ]
     },
     "execution_count": 12,
     "metadata": {},
     "output_type": "execute_result"
    }
   ],
   "source": [
    "model.get_analogies(\"putin\", \"russland\", \"frankreich\")"
   ]
  },
  {
   "cell_type": "code",
   "execution_count": 13,
   "id": "6324b5e9",
   "metadata": {},
   "outputs": [
    {
     "data": {
      "text/plain": [
       "[(0.5203118324279785, 'feministisch_außenpolitik'),\n",
       " (0.4492439031600952, 'reproduktiv'),\n",
       " (0.4339563250541687, 'entwicklungspolitik'),\n",
       " (0.3665350377559662, 'digitalpolitik'),\n",
       " (0.3600451648235321, 'entwicklungszusammenarbeit'),\n",
       " (0.3560643494129181, 'außenpolitik'),\n",
       " (0.35594332218170166, 'geschlechtergerechtigkeit'),\n",
       " (0.33364930748939514, 'gender'),\n",
       " (0.33181729912757874, 'gleichstellung'),\n",
       " (0.3277393877506256, 'mädchen')]"
      ]
     },
     "execution_count": 13,
     "metadata": {},
     "output_type": "execute_result"
    }
   ],
   "source": [
    "model.get_nearest_neighbors(\"feministisch\")"
   ]
  },
  {
   "cell_type": "code",
   "execution_count": 18,
   "id": "1783381f",
   "metadata": {},
   "outputs": [
    {
     "data": {
      "text/plain": [
       "[(0.4548969566822052, 'pakistan'),\n",
       " (0.4405817687511444, 'menschenrechtsverletzung'),\n",
       " (0.43814998865127563, 'christenverfolgung'),\n",
       " (0.4378519654273987, 'indien'),\n",
       " (0.43759164214134216, 'omikron'),\n",
       " (0.4206409156322479, 'myanmar'),\n",
       " (0.4164648652076721, 'sudan'),\n",
       " (0.41556814312934875, 'christ'),\n",
       " (0.4104635417461395, 'reagieren'),\n",
       " (0.40753668546676636, 'erwähn')]"
      ]
     },
     "execution_count": 18,
     "metadata": {},
     "output_type": "execute_result"
    }
   ],
   "source": [
    "model.get_nearest_neighbors(\"südafrika\")"
   ]
  },
  {
   "cell_type": "code",
   "execution_count": 19,
   "id": "220dee3f",
   "metadata": {},
   "outputs": [
    {
     "data": {
      "text/plain": [
       "[(0.8412564992904663, 'rechtsextremist'),\n",
       " (0.7622953653335571, 'rechtsextremismus'),\n",
       " (0.544190526008606, 'rechts'),\n",
       " (0.5303659439086914, 'linksextremismus'),\n",
       " (0.5230078101158142, 'linksextrem'),\n",
       " (0.5137443542480469, 'extremismus'),\n",
       " (0.5117195248603821, 'extremistisch'),\n",
       " (0.5085578560829163, 'linksextremistisch'),\n",
       " (0.49099135398864746, 'legitim'),\n",
       " (0.48936745524406433, 'extremist')]"
      ]
     },
     "execution_count": 19,
     "metadata": {},
     "output_type": "execute_result"
    }
   ],
   "source": [
    "model.get_nearest_neighbors(\"rechtsextrem\")"
   ]
  },
  {
   "cell_type": "code",
   "execution_count": 14,
   "id": "a2a620c8",
   "metadata": {},
   "outputs": [
    {
     "data": {
      "text/plain": [
       "[(0.4079417884349823, 'antrag'),\n",
       " (0.3625119626522064, 'gesetzentwurf'),\n",
       " (0.36188164353370667, 'forderung'),\n",
       " (0.3392375111579895, 'gar'),\n",
       " (0.3366844654083252, 'schlicht'),\n",
       " (0.33537518978118896, 'nämlich'),\n",
       " (0.32102882862091064, 'schön'),\n",
       " (0.31243643164634705, 'rede'),\n",
       " (0.31240758299827576, 'luft'),\n",
       " (0.31104937195777893, 'immerhin')]"
      ]
     },
     "execution_count": 14,
     "metadata": {},
     "output_type": "execute_result"
    }
   ],
   "source": [
    "model.get_analogies(\"fdp\", \"wirtschaft\", \"umwelt\")"
   ]
  },
  {
   "cell_type": "code",
   "execution_count": 15,
   "id": "bee86c98",
   "metadata": {},
   "outputs": [
    {
     "data": {
      "text/plain": [
       "[(0.33188435435295105, 'gerichtlich'),\n",
       " (0.32312679290771484, 'himmel'),\n",
       " (0.3056391179561615, 'grenzwert'),\n",
       " (0.29656338691711426, 'erläutern'),\n",
       " (0.2919789254665375, 'hardwarenachrüstung'),\n",
       " (0.28277915716171265, 'aufmachen'),\n",
       " (0.27561020851135254, 'fahrverbot'),\n",
       " (0.27330076694488525, 'umweltministerin'),\n",
       " (0.26716476678848267, 'handlungsfähigkeit'),\n",
       " (0.2626885771751404, 'unseriös')]"
      ]
     },
     "execution_count": 15,
     "metadata": {},
     "output_type": "execute_result"
    }
   ],
   "source": [
    "model.get_analogies(\"grüne\", \"grün\", \"blau\")"
   ]
  },
  {
   "cell_type": "code",
   "execution_count": 22,
   "id": "0216ba10",
   "metadata": {},
   "outputs": [
    {
     "data": {
      "text/plain": [
       "[(0.7083155512809753, 'naturschutz'),\n",
       " (0.6749476790428162, 'umweltschutz'),\n",
       " (0.6159775257110596, 'natur'),\n",
       " (0.6103221774101257, 'klimaschutz'),\n",
       " (0.5812951922416687, 'grün'),\n",
       " (0.553834855556488, 'zerstören'),\n",
       " (0.5523459911346436, 'planet'),\n",
       " (0.5500885844230652, 'windenergieanlag'),\n",
       " (0.5405398607254028, 'nachhaltig'),\n",
       " (0.5358507633209229, 'umweltpolitik')]"
      ]
     },
     "execution_count": 22,
     "metadata": {},
     "output_type": "execute_result"
    }
   ],
   "source": [
    "model.get_nearest_neighbors(\"umwelt\")"
   ]
  },
  {
   "cell_type": "code",
   "execution_count": 11,
   "id": "0c61ced5",
   "metadata": {},
   "outputs": [
    {
     "name": "stdout",
     "output_type": "stream",
     "text": [
      "The history saving thread hit an unexpected error (OperationalError('unable to open database file')).History will not be written to the database.\n"
     ]
    }
   ],
   "source": [
    "model.save_model(\"../models/fasttext/afd_dim80_epoch200_loss.bin\")"
   ]
  },
  {
   "cell_type": "code",
   "execution_count": 81,
   "id": "9d11509b",
   "metadata": {},
   "outputs": [
    {
     "data": {
      "text/plain": [
       "[(0.6388418674468994, 'lebensgrundlage'),\n",
       " (0.6260218620300293, 'boden'),\n",
       " (0.6124876737594604, 'zerstörung'),\n",
       " (0.5951669812202454, 'vernichten'),\n",
       " (0.5911559462547302, 'klimakrise'),\n",
       " (0.5850870609283447, 'welt'),\n",
       " (0.576824963092804, 'deutschland'),\n",
       " (0.5677260756492615, 'politik'),\n",
       " (0.5652444362640381, 'bedrohen'),\n",
       " (0.5644758939743042, 'erleben')]"
      ]
     },
     "execution_count": 81,
     "metadata": {},
     "output_type": "execute_result"
    }
   ],
   "source": [
    "model.get_nearest_neighbors(\"zerstören\")"
   ]
  },
  {
   "cell_type": "code",
   "execution_count": null,
   "id": "528570b0",
   "metadata": {},
   "outputs": [],
   "source": []
  }
 ],
 "metadata": {
  "kernelspec": {
   "display_name": "Python 3 (ipykernel)",
   "language": "python",
   "name": "python3"
  },
  "language_info": {
   "codemirror_mode": {
    "name": "ipython",
    "version": 3
   },
   "file_extension": ".py",
   "mimetype": "text/x-python",
   "name": "python",
   "nbconvert_exporter": "python",
   "pygments_lexer": "ipython3",
   "version": "3.9.12"
  }
 },
 "nbformat": 4,
 "nbformat_minor": 5
}
