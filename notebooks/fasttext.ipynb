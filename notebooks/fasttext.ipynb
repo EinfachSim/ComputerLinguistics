{
 "cells": [
  {
   "cell_type": "code",
   "execution_count": 1,
   "id": "ff6e1290",
   "metadata": {},
   "outputs": [],
   "source": [
    "import fasttext"
   ]
  },
  {
   "cell_type": "code",
   "execution_count": 11,
   "id": "4d707c87",
   "metadata": {},
   "outputs": [
    {
     "name": "stderr",
     "output_type": "stream",
     "text": [
      "Read 1M words\n",
      "Number of words:  6895\n",
      "Number of labels: 0\n",
      "Progress: 100.0% words/sec/thread:   38289 lr:  0.000000 avg.loss:  1.045859 ETA:   0h 0m 0s  1.3% words/sec/thread:   35318 lr:  0.049347 avg.loss:  2.816550 ETA:   0h47m56s  3.8% words/sec/thread:   38347 lr:  0.048097 avg.loss:  2.704094 ETA:   0h43m 1s  6.3% words/sec/thread:   38459 lr:  0.046872 avg.loss:  2.667280 ETA:   0h41m48s  0h41m51s  9.3% words/sec/thread:   38378 lr:  0.045326 avg.loss:  2.569878 ETA:   0h40m31s 21.0% words/sec/thread:   38515 lr:  0.039494 avg.loss:  2.380037 ETA:   0h35m10s 21.1% words/sec/thread:   38513 lr:  0.039435 avg.loss:  2.377973 ETA:   0h35m 7s 24.7% words/sec/thread:   38542 lr:  0.037666 avg.loss:  2.232610 ETA:   0h33m31s 28.0% words/sec/thread:   38558 lr:  0.035990 avg.loss:  2.101590 ETA:   0h32m 1s 30.8% words/sec/thread:   38546 lr:  0.034593 avg.loss:  2.004552 ETA:   0h30m47s 33.6% words/sec/thread:   38526 lr:  0.033221 avg.loss:  1.923385 ETA:   0h29m34s 34.7% words/sec/thread:   38526 lr:  0.032626 avg.loss:  1.889416 ETA:   0h29m 3s 35.1% words/sec/thread:   38514 lr:  0.032446 avg.loss:  1.879905 ETA:   0h28m54s 35.6% words/sec/thread:   38528 lr:  0.032200 avg.loss:  1.867219 ETA:   0h28m40s 40.5% words/sec/thread:   38511 lr:  0.029774 avg.loss:  1.760437 ETA:   0h26m31s 46.3% words/sec/thread:   38503 lr:  0.026865 avg.loss:  1.662818 ETA:   0h23m56s 47.7% words/sec/thread:   38519 lr:  0.026168 avg.loss:  1.643170 ETA:   0h23m18s 47.9% words/sec/thread:   38510 lr:  0.026029 avg.loss:  1.639274 ETA:   0h23m11s 61.6% words/sec/thread:   38541 lr:  0.019179 avg.loss:  1.455013 ETA:   0h17m 4s 65.8% words/sec/thread:   38467 lr:  0.017093 avg.loss:  1.405874 ETA:   0h15m14s 68.2% words/sec/thread:   38472 lr:  0.015923 avg.loss:  1.380361 ETA:   0h14m11s 72.4% words/sec/thread:   38419 lr:  0.013818 avg.loss:  1.338179 ETA:   0h12m20s 72.6% words/sec/thread:   38408 lr:  0.013687 avg.loss:  1.335645 ETA:   0h12m13s 72.7% words/sec/thread:   38365 lr:  0.013634 avg.loss:  1.334680 ETA:   0h12m11s.334249 ETA:   0h12m10ssec/thread:   38334 lr:  0.013570 avg.loss:  1.333489 ETA:   0h12m 8s332728 ETA:   0h12m 6s 0.013507 avg.loss:  1.332291 ETA:   0h12m 5sec/thread:   38330 lr:  0.013487 avg.loss:  1.331806 ETA:   0h12m 4srogress:  73.1% words/sec/thread:   38331 lr:  0.013465 avg.loss:  1.331418 ETA:   0h12m 3s31086 ETA:   0h12m 2s0.013424 avg.loss:  1.330710 ETA:   0h12m 0sogress:  73.2% words/sec/thread:   38324 lr:  0.013385 avg.loss:  1.329994 ETA:   0h11m58s9671 ETA:   0h11m57s/thread:   38317 lr:  0.013328 avg.loss:  1.328853 ETA:   0h11m55sgress:  73.4% words/sec/thread:   38316 lr:  0.013308 avg.loss:  1.328498 ETA:   0h11m54sess:  73.7% words/sec/thread:   38314 lr:  0.013138 avg.loss:  1.325198 ETA:   0h11m45s3096 avg.loss:  1.324321 ETA:   0h11m43s018 avg.loss:  1.322746 ETA:   0h11m39sETA:   0h11m36s41 avg.loss:  1.321179 ETA:   0h11m35sTA:   0h11m32s 74.4% words/sec/thread:   38294 lr:  0.012808 avg.loss:  1.318530 ETA:   0h11m28s 74.6% words/sec/thread:   38291 lr:  0.012691 avg.loss:  1.316200 ETA:   0h11m22s 80.7% words/sec/thread:   38225 lr:  0.009658 avg.loss:  1.260520 ETA:   0h 8m40s 81.2% words/sec/thread:   38224 lr:  0.009416 avg.loss:  1.256148 ETA:   0h 8m27s 84.7% words/sec/thread:   38232 lr:  0.007671 avg.loss:  1.226021 ETA:   0h 6m53s 85.5% words/sec/thread:   38232 lr:  0.007235 avg.loss:  1.215247 ETA:   0h 6m29s 87.8% words/sec/thread:   38236 lr:  0.006103 avg.loss:  1.185032 ETA:   0h 5m28s 93.4% words/sec/thread:   38222 lr:  0.003324 avg.loss:  1.117162 ETA:   0h 2m59s1.111234 ETA:   0h 2m45s 95.3% words/sec/thread:   38216 lr:  0.002342 avg.loss:  1.095048 ETA:   0h 2m 6s 95.8% words/sec/thread:   38200 lr:  0.002103 avg.loss:  1.089774 ETA:   0h 1m53s 96.7% words/sec/thread:   38211 lr:  0.001641 avg.loss:  1.079808 ETA:   0h 1m28s 96.8% words/sec/thread:   38212 lr:  0.001607 avg.loss:  1.079085 ETA:   0h 1m26s 97.1% words/sec/thread:   38219 lr:  0.001437 avg.loss:  1.075486 ETA:   0h 1m17s 97.8% words/sec/thread:   38231 lr:  0.001104 avg.loss:  1.068466 ETA:   0h 0m59s 99.0% words/sec/thread:   38262 lr:  0.000490 avg.loss:  1.055784 ETA:   0h 0m26s 99.6% words/sec/thread:   38276 lr:  0.000223 avg.loss:  1.050362 ETA:   0h 0m12s\n"
     ]
    }
   ],
   "source": [
    "model = fasttext.train_unsupervised(\n",
    "    '../data/txt/gruene.txt',\n",
    "    model='skipgram',\n",
    "    #wordNgrams=2,\n",
    "    ws=3,\n",
    "    maxn=5,\n",
    "    neg=7,\n",
    "    t=1e-5,\n",
    "    dim=400,\n",
    "    epoch=700,\n",
    "    minCount=20\n",
    ")"
   ]
  },
  {
   "cell_type": "code",
   "execution_count": 12,
   "id": "d0a0b20b",
   "metadata": {},
   "outputs": [
    {
     "data": {
      "text/plain": [
       "[(0.5059711933135986, 'russland'),\n",
       " (0.43673378229141235, 'ukraine'),\n",
       " (0.3737461566925049, 'krieg'),\n",
       " (0.37138256430625916, 'russische'),\n",
       " (0.3570496141910553, 'russischen'),\n",
       " (0.3539368808269501, 'gas'),\n",
       " (0.3454062342643738, 'europa'),\n",
       " (0.33660489320755005, 'abhängigkeit'),\n",
       " (0.33112645149230957, 'kriegsverbrechen'),\n",
       " (0.3162328004837036, 'regime')]"
      ]
     },
     "execution_count": 12,
     "metadata": {},
     "output_type": "execute_result"
    }
   ],
   "source": [
    "model.get_nearest_neighbors(\"putin\")"
   ]
  },
  {
   "cell_type": "code",
   "execution_count": 13,
   "id": "5b66c08a",
   "metadata": {},
   "outputs": [
    {
     "data": {
      "text/plain": [
       "[(0.23532000184059143, 'macron'),\n",
       " (0.2332558035850525, 'europa'),\n",
       " (0.228928804397583, 'verändern'),\n",
       " (0.2038327008485794, 'frau_merkel'),\n",
       " (0.20370762050151825, 'französischen'),\n",
       " (0.2018684297800064, 'beeindruckt'),\n",
       " (0.19837099313735962, 'seit_beginn'),\n",
       " (0.19424918293952942, 'ausbau_erneuerbaren'),\n",
       " (0.1940794289112091, 'europäischen'),\n",
       " (0.19319109618663788, 'freunden')]"
      ]
     },
     "execution_count": 13,
     "metadata": {},
     "output_type": "execute_result"
    }
   ],
   "source": [
    "model.get_analogies(\"putin\", \"russland\", \"frankreich\")"
   ]
  },
  {
   "cell_type": "code",
   "execution_count": 14,
   "id": "6324b5e9",
   "metadata": {},
   "outputs": [
    {
     "data": {
      "text/plain": [
       "[(0.9628171920776367, 'feministische'),\n",
       " (0.4475444257259369, 'feministische_außenpolitik'),\n",
       " (0.34041106700897217, 'entwicklungspolitik'),\n",
       " (0.26962557435035706, 'digitalpolitik'),\n",
       " (0.2666769325733185, 'bedürfnissen'),\n",
       " (0.2664977014064789, 'multilaterale'),\n",
       " (0.26643335819244385, 'eingefordert'),\n",
       " (0.2636773884296417, 'unterdrückt'),\n",
       " (0.25953757762908936, 'gleichberechtigte'),\n",
       " (0.2593604624271393, 'frauen_mädchen')]"
      ]
     },
     "execution_count": 14,
     "metadata": {},
     "output_type": "execute_result"
    }
   ],
   "source": [
    "model.get_nearest_neighbors(\"feministisch\")"
   ]
  },
  {
   "cell_type": "code",
   "execution_count": 15,
   "id": "1783381f",
   "metadata": {},
   "outputs": [
    {
     "data": {
      "text/plain": [
       "[(0.8615877628326416, 'afrika'),\n",
       " (0.4571007788181305, 'afrikanischen'),\n",
       " (0.3786305785179138, 'süden'),\n",
       " (0.36592617630958557, 'südsudan'),\n",
       " (0.2847525179386139, 'südens'),\n",
       " (0.2820861041545868, 'staaten'),\n",
       " (0.2462565004825592, 'mission'),\n",
       " (0.2395137995481491, 'humanitäre_hilfe'),\n",
       " (0.23538272082805634, 'vereinten_nationen'),\n",
       " (0.23454046249389648, 'globalen')]"
      ]
     },
     "execution_count": 15,
     "metadata": {},
     "output_type": "execute_result"
    }
   ],
   "source": [
    "model.get_nearest_neighbors(\"südafrika\")"
   ]
  },
  {
   "cell_type": "code",
   "execution_count": 16,
   "id": "220dee3f",
   "metadata": {},
   "outputs": [
    {
     "data": {
      "text/plain": [
       "[(0.7757548093795776, 'rechtsextremen'),\n",
       " (0.7397924661636353, 'rechtsextreme'),\n",
       " (0.38027873635292053, 'rechtsextremismus'),\n",
       " (0.31908074021339417, 'rechtsextremisten'),\n",
       " (0.3179967701435089, 'netzwerke'),\n",
       " (0.29772984981536865, 'sicherheitsbehörden'),\n",
       " (0.2948448359966278, 'extrem'),\n",
       " (0.27175623178482056, 'rassismus'),\n",
       " (0.270350843667984, 'breitscheidplatz'),\n",
       " (0.2699809968471527, 'nsu')]"
      ]
     },
     "execution_count": 16,
     "metadata": {},
     "output_type": "execute_result"
    }
   ],
   "source": [
    "model.get_nearest_neighbors(\"rechtsextrem\")"
   ]
  },
  {
   "cell_type": "code",
   "execution_count": 17,
   "id": "a2a620c8",
   "metadata": {},
   "outputs": [
    {
     "data": {
      "text/plain": [
       "[(0.5519432425498962, 'feministische'),\n",
       " (0.253284752368927, 'demokratie'),\n",
       " (0.23605398833751678, 'feministische_außenpolitik'),\n",
       " (0.23444826900959015, 'außen'),\n",
       " (0.22737790644168854, 'mitgliedstaaten'),\n",
       " (0.22553613781929016, 'rassismus'),\n",
       " (0.2179597020149231, 'eigenes'),\n",
       " (0.21214720606803894, 'zivilgesellschaft'),\n",
       " (0.2109888643026352, 'menschenrechten'),\n",
       " (0.2075936198234558, 'stabil')]"
      ]
     },
     "execution_count": 17,
     "metadata": {},
     "output_type": "execute_result"
    }
   ],
   "source": [
    "model.get_analogies(\"feminismus\", \"links\", \"rechts\")"
   ]
  },
  {
   "cell_type": "code",
   "execution_count": 18,
   "id": "0216ba10",
   "metadata": {},
   "outputs": [
    {
     "data": {
      "text/plain": [
       "[(0.40711575746536255, 'klima'),\n",
       " (0.3660041093826294, 'klimaschutz'),\n",
       " (0.3585965633392334, 'naturschutz'),\n",
       " (0.3520034849643707, 'landwirtschaft'),\n",
       " (0.33723339438438416, 'gesundheit'),\n",
       " (0.3348095118999481, 'natur'),\n",
       " (0.30960720777511597, 'subventionen'),\n",
       " (0.2863273024559021, 'agrarpolitik'),\n",
       " (0.28538137674331665, 'wasser'),\n",
       " (0.281789094209671, 'klimakrise')]"
      ]
     },
     "execution_count": 18,
     "metadata": {},
     "output_type": "execute_result"
    }
   ],
   "source": [
    "model.get_nearest_neighbors(\"umwelt\")"
   ]
  },
  {
   "cell_type": "code",
   "execution_count": 19,
   "id": "0c61ced5",
   "metadata": {},
   "outputs": [],
   "source": [
    "model.save_model(\"../models/fasttext/gruene_ws3_neg7_dim400_ep500_loss104.bin\")"
   ]
  },
  {
   "cell_type": "code",
   "execution_count": null,
   "id": "5b20e75a",
   "metadata": {},
   "outputs": [],
   "source": []
  }
 ],
 "metadata": {
  "kernelspec": {
   "display_name": "Python 3 (ipykernel)",
   "language": "python",
   "name": "python3"
  },
  "language_info": {
   "codemirror_mode": {
    "name": "ipython",
    "version": 3
   },
   "file_extension": ".py",
   "mimetype": "text/x-python",
   "name": "python",
   "nbconvert_exporter": "python",
   "pygments_lexer": "ipython3",
   "version": "3.9.12"
  }
 },
 "nbformat": 4,
 "nbformat_minor": 5
}
